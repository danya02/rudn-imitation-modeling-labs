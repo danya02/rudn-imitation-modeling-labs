{
 "cells": [
  {
   "cell_type": "markdown",
   "id": "97921244",
   "metadata": {},
   "source": [
    "# Лабораторная работа 1\n",
    "Генералов Даниил, НПИбд-01-21, 1032212280"
   ]
  },
  {
   "cell_type": "markdown",
   "id": "6c5112f3",
   "metadata": {},
   "source": [
    "В данной лабораторной работе требуется выполнить симуляции методом Монте-Карло.\n",
    "\n",
    "Этот отчет представлен как экспорт Jupyter-блокнота (https://jupyter.org), использующего ядро evcxr (https://github.com/evcxr/evcxr)."
   ]
  },
  {
   "cell_type": "code",
   "execution_count": 2,
   "id": "47656b42",
   "metadata": {
    "scrolled": true
   },
   "outputs": [
    {
     "data": {
      "text/plain": [
       "Timing: true\n",
       "sccache: true\n"
      ]
     },
     "execution_count": 2,
     "metadata": {},
     "output_type": "execute_result"
    },
    {
     "data": {
      "text/html": [
       "<span style=\"color: rgba(0,0,0,0.4);\">Took 346ms</span>"
      ]
     },
     "execution_count": 2,
     "metadata": {},
     "output_type": "execute_result"
    }
   ],
   "source": [
    "// Эти команды проверяют функционирование ядра evcxr,\n",
    "// а также включают информацию о времени выполнения ячейки\n",
    "// и кеширование артифактов компиляции.\n",
    ":timing 1\n",
    ":sccache 1"
   ]
  },
  {
   "cell_type": "code",
   "execution_count": 3,
   "id": "3beb4dd8",
   "metadata": {},
   "outputs": [
    {
     "data": {
      "text/plain": [
       "Timing: false\n",
       "sccache: true\n"
      ]
     },
     "execution_count": 3,
     "metadata": {},
     "output_type": "execute_result"
    }
   ],
   "source": [
    ":timing 1\n",
    ":sccache 1\n",
    "\n",
    "// Здесь мы описываем все зависимости для выполнения ячеек этого блокнота.\n",
    "// Выполнение этой ячейки скачает и соберет все зависимости заранее.\n",
    ":dep rand = \"0.8.5\"\n",
    ":dep itertools = \"0.10.5\"\n",
    ":dep rand_distr = \"0.4.3\"\n",
    ":dep plotters = { version=\"0.3.4\", default_features = false, features = [\"evcxr\", \"all_series\"] }"
   ]
  },
  {
   "cell_type": "code",
   "execution_count": 4,
   "id": "163dd9fe",
   "metadata": {},
   "outputs": [
    {
     "data": {
      "text/plain": [
       "Timing: true\n",
       "sccache: true\n"
      ]
     },
     "execution_count": 4,
     "metadata": {},
     "output_type": "execute_result"
    },
    {
     "data": {
      "text/html": [
       "<span style=\"color: rgba(0,0,0,0.4);\">Took 2315ms</span>"
      ]
     },
     "execution_count": 4,
     "metadata": {},
     "output_type": "execute_result"
    }
   ],
   "source": [
    ":timing 1\n",
    ":sccache 1\n",
    ":dep rand = \"0.8.5\"\n",
    "\n",
    "/// Мы описываем интерфейс, который будут реализовывать случайные опыты.\n",
    "/// Он состоит из одного типа и нескольких функций.\n",
    "trait Experiment {\n",
    "    /// Тип, описывающий исход выполнения одного опыта.\n",
    "    type Outcome: Ord+Eq+std::hash::Hash+Sized;\n",
    "    \n",
    "    /// Метод, возвращающий список исходов, которые считаются желаемыми в опыте.\n",
    "    fn desired_outcomes(&self) -> Vec<Self::Outcome>;\n",
    "    \n",
    "    /// Метод, который принимает экземпляр генератора случайных чисел\n",
    "    /// и выдает результат выполнения одного опыта.\n",
    "    fn try_it<T: rand::Rng>(&self, rng: &mut T) -> Self::Outcome;\n",
    "\n",
    "    /// Метод, который проводит много опытов и составляет\n",
    "    /// гистограмму исходов с количеством того. сколько раз они встречались.\n",
    "    fn collect_stats(&self, trials: usize) -> std::collections::HashMap<Self::Outcome, usize> {\n",
    "        let mut outcomes = std::collections::HashMap::new();\n",
    "        let mut rng = rand::thread_rng();\n",
    "        for _ in 0..trials {\n",
    "            // Для каждого раза опыта, проводим один опыт, и увеличиваем его счетчик в гистограмме.\n",
    "            let outcome = <Self as Experiment>::try_it(&self, &mut rng);\n",
    "            outcomes.entry(outcome).and_modify(|i| *i += 1).or_insert(1);\n",
    "        }\n",
    "        outcomes\n",
    "    }\n",
    "    \n",
    "    /// Метод, который считает вероятность того, что исход опыта будет одним из данных.\n",
    "    fn probability_of_outcomes(&self, trials: usize, desired_outcomes: &[Self::Outcome]) -> f64 {\n",
    "        let outcomes = self.collect_stats(trials);\n",
    "        let mut ok_outcomes = 0.0;\n",
    "        for outcome in desired_outcomes {\n",
    "            ok_outcomes += (*outcomes.get(&outcome).unwrap_or(&0) as f64);\n",
    "        }\n",
    "        ok_outcomes / (trials as f64)\n",
    "    }\n",
    "    \n",
    "    /// Метод, который считает вероятность того, что исход опыта будет одним из желаемых.\n",
    "    fn probability_of_desired(&self, trials: usize) -> f64 {\n",
    "        self.probability_of_outcomes(trials, &<Self as Experiment>::desired_outcomes(&self))\n",
    "    }\n",
    "    \n",
    "    /// Описание опыта в виде строки.\n",
    "    fn description(&self) -> String;\n",
    "}\n",
    "\n",
    "/// Интерфейс для опытов, которые возвращают непрерывные значения,\n",
    "/// которые нельзя сравнивать напрямую.\n",
    "trait PartialExperiment {\n",
    "    type Outcome: PartialOrd+PartialEq+Sized;\n",
    "    \n",
    "    fn try_it<T: rand::Rng>(&self, rng: &mut T) -> Self::Outcome;\n",
    "    \n",
    "    /// Метод, который проводит опыт много раз и возвращает список\n",
    "    /// исходов, которые были получены.\n",
    "    fn collect_stats(&self, trials: usize) -> Vec<Self::Outcome> {\n",
    "        let mut outcomes = Vec::with_capacity(trials);\n",
    "        let mut rng = rand::thread_rng();\n",
    "        for _ in 0..trials {\n",
    "            let outcome = <Self as PartialExperiment>::try_it(&self, &mut rng);\n",
    "            outcomes.push(outcome)\n",
    "        }\n",
    "        outcomes\n",
    "    }\n",
    "    fn description(&self) -> String;\n",
    "}\n",
    "\n",
    "/// Наконец, мы объявляем структуру, которая будет содержать ответы на задания.\n",
    "#[derive(Default, Debug)]\n",
    "struct Answers {\n",
    "    task_1: Option<f64>,\n",
    "    task_2: Option<f64>,\n",
    "    task_3: Option<f64>,\n",
    "    task_4: Option<f64>,\n",
    "    task_5: Option<f64>,\n",
    "    task_6: Option<f64>,\n",
    "    task_7: Option<u64>,\n",
    "    task_8: Option<(f64, f64, f64)>,\n",
    "    task_9: Option<f64>,\n",
    "    task_10: Option<f64>,\n",
    "}\n",
    "let mut answers = Answers::default();"
   ]
  },
  {
   "cell_type": "code",
   "execution_count": 5,
   "id": "be70232e",
   "metadata": {},
   "outputs": [
    {
     "name": "stdout",
     "output_type": "stream",
     "text": [
      "Чему равна вероятность того, что случайный треугольник, нарисованный внутри\n",
      "квадрата со стороной 1, является тупоугольным? -- 0.725906\n"
     ]
    },
    {
     "data": {
      "text/plain": [
       "Timing: false\n",
       "sccache: true\n"
      ]
     },
     "execution_count": 5,
     "metadata": {},
     "output_type": "execute_result"
    }
   ],
   "source": [
    ":timing 1\n",
    ":sccache 1\n",
    ":dep rand = \"0.8.5\"\n",
    ":dep itertools = \"0.10.5\"\n",
    "\n",
    "use itertools::Itertools;\n",
    "\n",
    "struct Task1;\n",
    "\n",
    "/// В контексте данной задачи, вектор -- это пара двух действительных чисел.\n",
    "type Vec2 = (f64, f64);\n",
    "\n",
    "/// Вспомогательный метод считает длину вектора.\n",
    "fn magnitude(v: &Vec2) -> f64 {\n",
    "    let (a, b) = v;\n",
    "    (a*a + b*b).sqrt()\n",
    "}\n",
    "\n",
    "impl Experiment for Task1 {\n",
    "    type Outcome = bool;\n",
    "    fn description(&self) -> String {\n",
    "        \"Чему равна вероятность того, что случайный треугольник, нарисованный внутри\n",
    "квадрата со стороной 1, является тупоугольным?\".to_string()\n",
    "    }\n",
    "    fn try_it<T: rand::Rng>(&self, rng: &mut T) -> Self::Outcome {\n",
    "        // Генерируем три пары точек, каждая координата -- от 0 до 1.\n",
    "        let pa: (f64, f64) = (rng.gen(), rng.gen());\n",
    "        let pb: (f64, f64) = (rng.gen(), rng.gen());\n",
    "        let pc: (f64, f64) = (rng.gen(), rng.gen());\n",
    "        // Считаем векторы между точками\n",
    "        let va = (pa.0 - pb.0, pa.1 - pb.1);\n",
    "        let vb = (pa.0 - pc.0, pa.1 - pc.1);\n",
    "        let vc = (pc.0 - pb.0, pc.1 - pb.1);\n",
    "        // Считаем длины этих трех векторов\n",
    "        let magnitudes: Vec<f64> = [va, vb, vc].iter().map(|x| magnitude(x)).collect();\n",
    "        let ma = magnitudes[0];\n",
    "        let mb = magnitudes[1];\n",
    "        let mc = magnitudes[2];\n",
    "        \n",
    "        // Перебирая все перестановки этих трех векторов\n",
    "        for m in [ma, mb, mc].iter().permutations(3) {\n",
    "            // проверяем, квадрат двух катетов меньше ли квадрата гипотенузы\n",
    "            if (m[0] * m[0]) + (m[1] * m[1]) < (m[2] * m[2]) {\n",
    "                // если да, то такой треугольник тупоугольный.\n",
    "                return true;\n",
    "            }\n",
    "        }\n",
    "        // Если же такой перестановки сторон не существует,\n",
    "        // то треугольник не тупоугольный.\n",
    "        false\n",
    "    }\n",
    "    \n",
    "    fn desired_outcomes(&self) -> Vec<Self::Outcome> {vec![true]}\n",
    "}\n",
    "\n",
    "let a = Task1{};\n",
    "let prob = a.probability_of_desired(1_000_000);\n",
    "println!(\"{} -- {}\", a.description(), prob);\n",
    "answers.task_1 = Some(prob);"
   ]
  },
  {
   "cell_type": "code",
   "execution_count": 6,
   "id": "3d9ff5e8",
   "metadata": {
    "scrolled": true
   },
   "outputs": [
    {
     "name": "stdout",
     "output_type": "stream",
     "text": [
      "Чему равна вероятность того, что случайный треугольник, нарисованный внутри\n",
      "прямоугольника, у которого одна сторона в 2 раза длиннее другой, является тупоугольным? -- 0.7984\n"
     ]
    },
    {
     "data": {
      "text/plain": [
       "Timing: true\n",
       "sccache: true\n"
      ]
     },
     "execution_count": 6,
     "metadata": {},
     "output_type": "execute_result"
    },
    {
     "data": {
      "text/html": [
       "<span style=\"color: rgba(0,0,0,0.4);\">Took 733ms</span>"
      ]
     },
     "execution_count": 6,
     "metadata": {},
     "output_type": "execute_result"
    }
   ],
   "source": [
    ":timing 1\n",
    ":sccache 1\n",
    ":dep rand = \"0.8.5\"\n",
    "\n",
    "struct Task2;\n",
    "\n",
    "impl Experiment for Task2 {\n",
    "    type Outcome = bool;\n",
    "    fn description(&self) -> String {\n",
    "        \"Чему равна вероятность того, что случайный треугольник, нарисованный внутри\n",
    "прямоугольника, у которого одна сторона в 2 раза длиннее другой, является тупоугольным?\".to_string()\n",
    "    }\n",
    "    fn try_it<T: rand::Rng>(&self, rng: &mut T) -> Self::Outcome {\n",
    "        // Эта задача очень похожа на предыдущую, поэтому большинство кода идентично.\n",
    "        \n",
    "        // Генерируем три пары точек, где первая координата -- от 0 до 1, а вторая -- от 0 до 2.\n",
    "        let pa: (f64, f64) = (rng.gen(), rng.gen::<f64>()*2.0);\n",
    "        let pb: (f64, f64) = (rng.gen(), rng.gen::<f64>()*2.0);\n",
    "        let pc: (f64, f64) = (rng.gen(), rng.gen::<f64>()*2.0);\n",
    "        // Считаем векторы между точками\n",
    "        let va = (pa.0 - pb.0, pa.1 - pb.1);\n",
    "        let vb = (pa.0 - pc.0, pa.1 - pc.1);\n",
    "        let vc = (pc.0 - pb.0, pc.1 - pb.1);\n",
    "        // Считаем длины этих трех векторов\n",
    "        let magnitudes: Vec<f64> = [va, vb, vc].iter().map(|x| magnitude(x)).collect();\n",
    "        let ma = magnitudes[0];\n",
    "        let mb = magnitudes[1];\n",
    "        let mc = magnitudes[2];\n",
    "        \n",
    "        // Перебирая все перестановки этих трех векторов\n",
    "        for m in [ma, mb, mc].iter().permutations(3) {\n",
    "            // проверяем, квадрат двух катетов меньше ли квадрата гипотенузы\n",
    "            if (m[0] * m[0]) + (m[1] * m[1]) < (m[2] * m[2]) {\n",
    "                // если да, то такой треугольник тупоугольный.\n",
    "                return true;\n",
    "            }\n",
    "        }\n",
    "        // Если же такой перестановки сторон не существует,\n",
    "        // то треугольник не тупоугольный.\n",
    "        false\n",
    "    }\n",
    "    \n",
    "    fn desired_outcomes(&self) -> Vec<Self::Outcome> {vec![true]}\n",
    "}\n",
    "\n",
    "let a = Task2{};\n",
    "let prob = a.probability_of_desired(1_000_000);\n",
    "println!(\"{} -- {}\", a.description(), prob);\n",
    "answers.task_2 = Some(prob);"
   ]
  },
  {
   "cell_type": "code",
   "execution_count": 7,
   "id": "a27525ad",
   "metadata": {},
   "outputs": [
    {
     "name": "stdout",
     "output_type": "stream",
     "text": [
      "Пусть a, b и c – независимые случайные величины, распределенные равномерно на [0,1].\n",
      "Рассмотрим квадратное уравнение a∙x^2+b∙x+c=0. Чему равна вероятность того, что его решения –\n",
      "действительные числа? -- 0.254331\n"
     ]
    },
    {
     "data": {
      "text/plain": [
       "Timing: false\n",
       "sccache: true\n"
      ]
     },
     "execution_count": 7,
     "metadata": {},
     "output_type": "execute_result"
    }
   ],
   "source": [
    ":timing 1\n",
    ":sccache 1\n",
    ":dep rand = \"0.8.5\"\n",
    "\n",
    "struct Task3;\n",
    "\n",
    "impl Experiment for Task3 {\n",
    "    type Outcome = bool;\n",
    "    fn description(&self) -> String {\n",
    "        \"Пусть a, b и c – независимые случайные величины, распределенные равномерно на [0,1].\n",
    "Рассмотрим квадратное уравнение a∙x^2+b∙x+c=0. Чему равна вероятность того, что его решения –\n",
    "действительные числа?\".to_string()\n",
    "    }\n",
    "    fn try_it<T: rand::Rng>(&self, rng: &mut T) -> Self::Outcome {\n",
    "        // Генерируем три числа от 0 до 1\n",
    "        let a: f64 = rng.gen();\n",
    "        let b: f64 = rng.gen();\n",
    "        let c: f64 = rng.gen();\n",
    "        // Смотрим на значение дискриминанта квадратного уравнения -- (b^2) - (4ac).\n",
    "        let discriminant_sq = (b * b) - (4.0 * a * c);\n",
    "        // Если оно больше или равно нулю, то у уравнения есть действительные решения.\n",
    "        discriminant_sq >= 0.0\n",
    "    }\n",
    "    \n",
    "    fn desired_outcomes(&self) -> Vec<Self::Outcome> {vec![true]}\n",
    "}\n",
    "\n",
    "let a = Task3{};\n",
    "let prob = a.probability_of_desired(1_000_000);\n",
    "println!(\"{} -- {}\", a.description(), prob);\n",
    "answers.task_3 = Some(prob);"
   ]
  },
  {
   "cell_type": "code",
   "execution_count": 8,
   "id": "02f8677d",
   "metadata": {},
   "outputs": [
    {
     "name": "stdout",
     "output_type": "stream",
     "text": [
      "В самолете 220 мест, и все билеты проданы пассажирам. Первым в самолет заходит\n",
      "рассеянный учёный и, не посмотрев на билет, занимает первое попавшееся место. Далее пассажиры\n",
      "входят по одному. Если вошедший видит, что его место свободно, он занимает свое место. Если же\n",
      "место занято, то вошедший занимает первое попавшееся свободное место. Найдите вероятность того,\n",
      "что пассажир, вошедший последним, займет место согласно своему билету. -- 0.49964\n"
     ]
    },
    {
     "data": {
      "text/plain": [
       "Timing: true\n",
       "sccache: true\n"
      ]
     },
     "execution_count": 8,
     "metadata": {},
     "output_type": "execute_result"
    },
    {
     "data": {
      "text/html": [
       "<span style=\"color: rgba(0,0,0,0.4);\">Took 22331ms</span>"
      ]
     },
     "execution_count": 8,
     "metadata": {},
     "output_type": "execute_result"
    }
   ],
   "source": [
    ":timing 1\n",
    ":sccache 1\n",
    ":dep rand = \"0.8.5\"\n",
    "\n",
    "use rand::prelude::{SliceRandom, IteratorRandom};\n",
    "struct Task4(usize);\n",
    "\n",
    "impl Experiment for Task4 {\n",
    "    type Outcome = bool;\n",
    "    fn description(&self) -> String {\n",
    "        format!(\"В самолете {} мест, и все билеты проданы пассажирам. Первым в самолет заходит\n",
    "рассеянный учёный и, не посмотрев на билет, занимает первое попавшееся место. Далее пассажиры\n",
    "входят по одному. Если вошедший видит, что его место свободно, он занимает свое место. Если же\n",
    "место занято, то вошедший занимает первое попавшееся свободное место. Найдите вероятность того,\n",
    "что пассажир, вошедший последним, займет место согласно своему билету.\", self.0)\n",
    "    }\n",
    "    fn try_it<T: rand::Rng>(&self, rng: &mut T) -> Self::Outcome {\n",
    "        // Решение существует, только если мест не меньше 2.\n",
    "        assert!(self.0 >= 2);\n",
    "        // Сначала создаем список мест, список пустых мест и список пассажиров.\n",
    "        // Пассажиры идут в случайном порядке.\n",
    "        let mut seats: Vec<Option<usize>> = vec![None; self.0];\n",
    "        let mut empty_seats: Vec<usize> = (0..self.0).collect();\n",
    "        let mut passengers: Vec<usize> = (0..self.0).collect();\n",
    "        passengers.shuffle(rng);\n",
    "        \n",
    "        // Сначала первый пассажир занимает свое место случайно.\n",
    "        let first_passenger = passengers.pop();\n",
    "        let first_seat_idx = *empty_seats.iter().choose(rng).unwrap();\n",
    "        seats[first_seat_idx] = first_passenger;\n",
    "        empty_seats.retain(|i| *i != first_seat_idx);\n",
    "        \n",
    "        // Затем, все пассажиры до последнего занимают место.\n",
    "        while empty_seats.len() != 1 {\n",
    "            let next_passenger = passengers.pop().unwrap();\n",
    "            // Если место этого пассажира не занято, то пассажир занимает свое место.\n",
    "            if seats[next_passenger].is_none() {\n",
    "                seats[next_passenger] = Some(next_passenger);\n",
    "                empty_seats.retain(|i| *i != next_passenger);\n",
    "            } else { // иначе он занимает случайное место\n",
    "                // Он выбирает одно из мест, которые остались пустыми.\n",
    "                let random_empty_seat = *empty_seats.iter().choose(rng).unwrap();\n",
    "                seats[random_empty_seat] = Some(next_passenger);\n",
    "                empty_seats.retain(|i| *i != random_empty_seat);\n",
    "            }\n",
    "        }\n",
    "        \n",
    "        // Наконец, мы смотрим -- место последнего пассажира занято ли?\n",
    "        let last_passenger = passengers.pop().unwrap();\n",
    "        seats[last_passenger].is_none()\n",
    "    }\n",
    "    \n",
    "    fn desired_outcomes(&self) -> Vec<Self::Outcome> {vec![true]}\n",
    "}\n",
    "\n",
    "let a = Task4(220);\n",
    "let prob = a.probability_of_desired(1_000_000);\n",
    "println!(\"{} -- {}\", a.description(), prob);\n",
    "answers.task_4 = Some(prob);"
   ]
  },
  {
   "cell_type": "code",
   "execution_count": 9,
   "id": "b2f69d33",
   "metadata": {},
   "outputs": [
    {
     "name": "stdout",
     "output_type": "stream",
     "text": [
      "Диаметр круга имеет равномерное распределение на [0,5]. Чему равна средняя площадь\n",
      "круга? -- 6.537402833236494\n"
     ]
    },
    {
     "data": {
      "text/plain": [
       "Timing: false\n",
       "sccache: true\n"
      ]
     },
     "execution_count": 9,
     "metadata": {},
     "output_type": "execute_result"
    }
   ],
   "source": [
    ":timing 1\n",
    ":sccache 1\n",
    ":dep rand = \"0.8.5\"\n",
    "\n",
    "struct Task5(f64);\n",
    "\n",
    "impl PartialExperiment for Task5 {\n",
    "    type Outcome = f64;\n",
    "    fn description(&self) -> String {\n",
    "        format!(\"Диаметр круга имеет равномерное распределение на [0,{}]. Чему равна средняя площадь\n",
    "круга?\", self.0)\n",
    "    }\n",
    "    fn try_it<T: rand::Rng>(&self, rng: &mut T) -> Self::Outcome {\n",
    "        // Мы выбираем диаметр, умножая случайное число от 0 до 1 на максимальный диаметр.\n",
    "        // Это дает случайное число от 0 до максимума.\n",
    "        let diameter = rng.gen::<f64>() * self.0;\n",
    "        let radius = diameter / 2.0;\n",
    "        // Площадь круга: \\pi R^2  \n",
    "        let area = std::f64::consts::PI * radius * radius;\n",
    "        area\n",
    "    }\n",
    "}\n",
    "\n",
    "let a = Task5(5.0);\n",
    "let output = {\n",
    "    // Собираем результаты опыта\n",
    "    let stats = a.collect_stats(100_000);\n",
    "    // и считаем среднее значение\n",
    "    let avg: f64 = stats.iter().sum::<f64>() / (stats.len() as f64);\n",
    "    avg\n",
    "};\n",
    "println!(\"{} -- {}\", a.description(), output);\n",
    "answers.task_5 = Some(output);"
   ]
  },
  {
   "cell_type": "code",
   "execution_count": 10,
   "id": "451f92d3",
   "metadata": {},
   "outputs": [
    {
     "name": "stdout",
     "output_type": "stream",
     "text": [
      "Пусть x(1) выбирается наугад из интервала (0,1). Далее x(2) выбирается наугад из интервала\n",
      "(x(1),1). Далее x(3) выбирается наугад из интервала (x(2),1) и так далее, т.е. x(n+1) выбирается наугад\n",
      "из интервала (x(n),1). Чему равно среднее значение произведения x(1)x(2)...x(n) если n велико? -- 0.3688154219891535\n"
     ]
    },
    {
     "data": {
      "text/plain": [
       "Timing: true\n",
       "sccache: true\n"
      ]
     },
     "execution_count": 10,
     "metadata": {},
     "output_type": "execute_result"
    },
    {
     "data": {
      "text/html": [
       "<span style=\"color: rgba(0,0,0,0.4);\">Took 8601ms</span>"
      ]
     },
     "execution_count": 10,
     "metadata": {},
     "output_type": "execute_result"
    }
   ],
   "source": [
    ":timing 1\n",
    ":sccache 1\n",
    ":dep rand = \"0.8.5\"\n",
    "\n",
    "/// Для этой задачи нужно хранить количество шагов,\n",
    "/// а также нижнюю границу интервала случайных чисел.\n",
    "struct Task6 {\n",
    "    pub remaining_n: usize,\n",
    "    pub last_answer: f64,\n",
    "}\n",
    "\n",
    "impl Task6 {\n",
    "    /// Сначала нижняя граница равна нулю. \n",
    "    pub fn new(n: usize) -> Self {\n",
    "        Task6 {\n",
    "            remaining_n: n,\n",
    "            last_answer: 0.0f64,\n",
    "        }\n",
    "    }\n",
    "    \n",
    "    /// На каждом шаге мы меняем границу диапазона\n",
    "    /// и возвращаем эту границу в результате этой функции.\n",
    "    pub fn run_single_step<T: rand::Rng>(&mut self, rng: &mut T) -> Option<f64> {\n",
    "        if self.remaining_n == 0 {return None;}\n",
    "        // Мы создаем случайное число\n",
    "        let random: f64 = rng.gen();\n",
    "        // в диапазоне от нижней границы до 1\n",
    "        let range_size = 1.0 - self.last_answer;\n",
    "        // где минимальное число -- это нижняя граница\n",
    "        let random = self.last_answer + (random * range_size);\n",
    "        self.last_answer = random;\n",
    "        self.remaining_n -= 1;\n",
    "        Some(random)\n",
    "    }\n",
    "    \n",
    "    /// Чтобы взять все шаги, мы перемножаем все нижние границы.\n",
    "    pub fn run_until_completion<T: rand::Rng>(&mut self, rng: &mut T) -> f64 {\n",
    "        // Начинаем с единицы -- нулевого элемента относительно умножения\n",
    "        let mut multiplication = 1.0f64;\n",
    "        // На каждом шаге, умножаем это значение на нижнуюю границу\n",
    "        while let Some(value) = self.run_single_step(rng) {\n",
    "            multiplication *= value;\n",
    "        }\n",
    "        multiplication\n",
    "    }\n",
    "}\n",
    "\n",
    "/// Считаем среднее значение ответа\n",
    "let avg = {\n",
    "    let mut rng = rand::thread_rng();\n",
    "    let mut sum_of_answers = 0.0;\n",
    "    let mut count = 0;\n",
    "    for _ in 0..10_000 {\n",
    "        let mut experiment = Task6::new(100_000);\n",
    "        sum_of_answers += experiment.run_until_completion(&mut rng);\n",
    "        count += 1;\n",
    "    }\n",
    "    sum_of_answers / (count as f64)\n",
    "};\n",
    "println!(\"Пусть x(1) выбирается наугад из интервала (0,1). Далее x(2) выбирается наугад из интервала\n",
    "(x(1),1). Далее x(3) выбирается наугад из интервала (x(2),1) и так далее, т.е. x(n+1) выбирается наугад\n",
    "из интервала (x(n),1). Чему равно среднее значение произведения x(1)x(2)...x(n) если n велико? -- {}\", avg);\n",
    "answers.task_6 = Some(avg);"
   ]
  },
  {
   "cell_type": "code",
   "execution_count": 11,
   "id": "62aeeaad",
   "metadata": {},
   "outputs": [
    {
     "name": "stdout",
     "output_type": "stream",
     "text": [
      "В поселке 2500 жителей. Каждый из них примерно 6 раз в месяц ездит на поезде в город (т.е.\n",
      "с вероятностью 0.2), выбирая дни поездок по случайным мотивам независимо от остальных. Поезд\n",
      "ходит один раз в сутки. Какой наименьшей вместимостью должен обладать поезд, чтобы он\n",
      "переполнялся в среднем не чаще одного раза в 100 дней (т.е. с вероятностью 0.01)? -- 546\n"
     ]
    },
    {
     "data": {
      "text/html": [
       "<div style=\"\"><svg width=\"640\" height=\"480\" viewBox=\"0 0 640 480\" xmlns=\"http://www.w3.org/2000/svg\">\n",
       "<rect x=\"0\" y=\"0\" width=\"640\" height=\"480\" opacity=\"1\" fill=\"#FFFFFF\" stroke=\"none\"/>\n",
       "<line opacity=\"0.2\" stroke=\"#000000\" stroke-width=\"1\" x1=\"50\" y1=\"449\" x2=\"629\" y2=\"449\"/>\n",
       "<line opacity=\"0.2\" stroke=\"#000000\" stroke-width=\"1\" x1=\"50\" y1=\"362\" x2=\"629\" y2=\"362\"/>\n",
       "<line opacity=\"0.2\" stroke=\"#000000\" stroke-width=\"1\" x1=\"50\" y1=\"274\" x2=\"629\" y2=\"274\"/>\n",
       "<line opacity=\"0.2\" stroke=\"#000000\" stroke-width=\"1\" x1=\"50\" y1=\"186\" x2=\"629\" y2=\"186\"/>\n",
       "<line opacity=\"0.2\" stroke=\"#000000\" stroke-width=\"1\" x1=\"50\" y1=\"98\" x2=\"629\" y2=\"98\"/>\n",
       "<line opacity=\"0.2\" stroke=\"#000000\" stroke-width=\"1\" x1=\"50\" y1=\"10\" x2=\"629\" y2=\"10\"/>\n",
       "<polyline fill=\"none\" opacity=\"1\" stroke=\"#000000\" stroke-width=\"1\" points=\"49,10 49,449 \"/>\n",
       "<text x=\"40\" y=\"449\" dy=\"0.5ex\" text-anchor=\"end\" font-family=\"sans-serif\" font-size=\"9.67741935483871\" opacity=\"1\" fill=\"#000000\">\n",
       "0.0\n",
       "</text>\n",
       "<polyline fill=\"none\" opacity=\"1\" stroke=\"#000000\" stroke-width=\"1\" points=\"44,449 49,449 \"/>\n",
       "<text x=\"40\" y=\"362\" dy=\"0.5ex\" text-anchor=\"end\" font-family=\"sans-serif\" font-size=\"9.67741935483871\" opacity=\"1\" fill=\"#000000\">\n",
       "500.0\n",
       "</text>\n",
       "<polyline fill=\"none\" opacity=\"1\" stroke=\"#000000\" stroke-width=\"1\" points=\"44,362 49,362 \"/>\n",
       "<text x=\"40\" y=\"274\" dy=\"0.5ex\" text-anchor=\"end\" font-family=\"sans-serif\" font-size=\"9.67741935483871\" opacity=\"1\" fill=\"#000000\">\n",
       "1000.0\n",
       "</text>\n",
       "<polyline fill=\"none\" opacity=\"1\" stroke=\"#000000\" stroke-width=\"1\" points=\"44,274 49,274 \"/>\n",
       "<text x=\"40\" y=\"186\" dy=\"0.5ex\" text-anchor=\"end\" font-family=\"sans-serif\" font-size=\"9.67741935483871\" opacity=\"1\" fill=\"#000000\">\n",
       "1500.0\n",
       "</text>\n",
       "<polyline fill=\"none\" opacity=\"1\" stroke=\"#000000\" stroke-width=\"1\" points=\"44,186 49,186 \"/>\n",
       "<text x=\"40\" y=\"98\" dy=\"0.5ex\" text-anchor=\"end\" font-family=\"sans-serif\" font-size=\"9.67741935483871\" opacity=\"1\" fill=\"#000000\">\n",
       "2000.0\n",
       "</text>\n",
       "<polyline fill=\"none\" opacity=\"1\" stroke=\"#000000\" stroke-width=\"1\" points=\"44,98 49,98 \"/>\n",
       "<text x=\"40\" y=\"10\" dy=\"0.5ex\" text-anchor=\"end\" font-family=\"sans-serif\" font-size=\"9.67741935483871\" opacity=\"1\" fill=\"#000000\">\n",
       "2500.0\n",
       "</text>\n",
       "<polyline fill=\"none\" opacity=\"1\" stroke=\"#000000\" stroke-width=\"1\" points=\"44,10 49,10 \"/>\n",
       "<polyline fill=\"none\" opacity=\"1\" stroke=\"#000000\" stroke-width=\"1\" points=\"50,450 629,450 \"/>\n",
       "<text x=\"50\" y=\"460\" dy=\"0.76em\" text-anchor=\"middle\" font-family=\"sans-serif\" font-size=\"9.67741935483871\" opacity=\"1\" fill=\"#000000\">\n",
       "0.0\n",
       "</text>\n",
       "<polyline fill=\"none\" opacity=\"1\" stroke=\"#000000\" stroke-width=\"1\" points=\"50,450 50,455 \"/>\n",
       "<text x=\"107\" y=\"460\" dy=\"0.76em\" text-anchor=\"middle\" font-family=\"sans-serif\" font-size=\"9.67741935483871\" opacity=\"1\" fill=\"#000000\">\n",
       "200.0\n",
       "</text>\n",
       "<polyline fill=\"none\" opacity=\"1\" stroke=\"#000000\" stroke-width=\"1\" points=\"107,450 107,455 \"/>\n",
       "<text x=\"165\" y=\"460\" dy=\"0.76em\" text-anchor=\"middle\" font-family=\"sans-serif\" font-size=\"9.67741935483871\" opacity=\"1\" fill=\"#000000\">\n",
       "400.0\n",
       "</text>\n",
       "<polyline fill=\"none\" opacity=\"1\" stroke=\"#000000\" stroke-width=\"1\" points=\"165,450 165,455 \"/>\n",
       "<text x=\"223\" y=\"460\" dy=\"0.76em\" text-anchor=\"middle\" font-family=\"sans-serif\" font-size=\"9.67741935483871\" opacity=\"1\" fill=\"#000000\">\n",
       "600.0\n",
       "</text>\n",
       "<polyline fill=\"none\" opacity=\"1\" stroke=\"#000000\" stroke-width=\"1\" points=\"223,450 223,455 \"/>\n",
       "<text x=\"281\" y=\"460\" dy=\"0.76em\" text-anchor=\"middle\" font-family=\"sans-serif\" font-size=\"9.67741935483871\" opacity=\"1\" fill=\"#000000\">\n",
       "800.0\n",
       "</text>\n",
       "<polyline fill=\"none\" opacity=\"1\" stroke=\"#000000\" stroke-width=\"1\" points=\"281,450 281,455 \"/>\n",
       "<text x=\"339\" y=\"460\" dy=\"0.76em\" text-anchor=\"middle\" font-family=\"sans-serif\" font-size=\"9.67741935483871\" opacity=\"1\" fill=\"#000000\">\n",
       "1000.0\n",
       "</text>\n",
       "<polyline fill=\"none\" opacity=\"1\" stroke=\"#000000\" stroke-width=\"1\" points=\"339,450 339,455 \"/>\n",
       "<text x=\"397\" y=\"460\" dy=\"0.76em\" text-anchor=\"middle\" font-family=\"sans-serif\" font-size=\"9.67741935483871\" opacity=\"1\" fill=\"#000000\">\n",
       "1200.0\n",
       "</text>\n",
       "<polyline fill=\"none\" opacity=\"1\" stroke=\"#000000\" stroke-width=\"1\" points=\"397,450 397,455 \"/>\n",
       "<text x=\"455\" y=\"460\" dy=\"0.76em\" text-anchor=\"middle\" font-family=\"sans-serif\" font-size=\"9.67741935483871\" opacity=\"1\" fill=\"#000000\">\n",
       "1400.0\n",
       "</text>\n",
       "<polyline fill=\"none\" opacity=\"1\" stroke=\"#000000\" stroke-width=\"1\" points=\"455,450 455,455 \"/>\n",
       "<text x=\"513\" y=\"460\" dy=\"0.76em\" text-anchor=\"middle\" font-family=\"sans-serif\" font-size=\"9.67741935483871\" opacity=\"1\" fill=\"#000000\">\n",
       "1600.0\n",
       "</text>\n",
       "<polyline fill=\"none\" opacity=\"1\" stroke=\"#000000\" stroke-width=\"1\" points=\"513,450 513,455 \"/>\n",
       "<text x=\"571\" y=\"460\" dy=\"0.76em\" text-anchor=\"middle\" font-family=\"sans-serif\" font-size=\"9.67741935483871\" opacity=\"1\" fill=\"#000000\">\n",
       "1800.0\n",
       "</text>\n",
       "<polyline fill=\"none\" opacity=\"1\" stroke=\"#000000\" stroke-width=\"1\" points=\"571,450 571,455 \"/>\n",
       "<text x=\"629\" y=\"460\" dy=\"0.76em\" text-anchor=\"middle\" font-family=\"sans-serif\" font-size=\"9.67741935483871\" opacity=\"1\" fill=\"#000000\">\n",
       "2000.0\n",
       "</text>\n",
       "<polyline fill=\"none\" opacity=\"1\" stroke=\"#000000\" stroke-width=\"1\" points=\"629,450 629,455 \"/>\n",
       "<polyline fill=\"none\" opacity=\"1\" stroke=\"#FF0000\" stroke-width=\"1\" points=\"50,449 50,449 50,449 50,449 51,449 51,449 51,448 52,448 52,448 52,448 52,448 53,448 53,447 53,447 54,447 54,447 54,447 54,447 55,446 55,446 55,446 56,446 56,446 56,445 56,445 57,445 57,445 57,445 58,445 58,444 58,444 58,444 59,444 59,444 59,444 60,443 60,443 60,443 61,443 61,443 61,442 61,442 62,442 62,442 62,442 63,442 63,441 63,441 63,441 64,441 64,441 64,441 65,440 65,440 65,440 65,440 66,440 66,439 66,439 67,439 67,439 67,439 67,439 68,438 68,438 68,438 69,438 69,438 69,438 69,437 70,437 70,437 70,437 71,437 71,437 71,436 72,436 72,436 72,436 72,436 73,435 73,435 73,435 74,435 74,435 74,435 74,434 75,434 75,434 75,434 76,434 76,434 76,433 76,433 77,433 77,433 77,433 78,432 78,432 78,432 78,432 79,432 79,432 79,431 80,431 80,431 80,431 80,431 81,431 81,430 81,430 82,430 82,430 82,430 83,429 83,429 83,429 83,429 84,429 84,429 84,428 85,428 85,428 85,428 85,428 86,428 86,427 86,427 87,427 87,427 87,427 87,426 88,426 88,426 88,426 89,426 89,426 89,425 89,425 90,425 90,425 90,425 91,425 91,424 91,424 91,424 92,424 92,424 92,424 93,423 93,423 93,423 94,423 94,423 94,422 94,422 95,422 95,422 95,422 96,422 96,421 96,421 96,421 97,421 97,421 97,421 98,420 98,420 98,420 98,420 99,420 99,419 99,419 100,419 100,419 100,419 100,419 101,418 101,418 101,418 102,418 102,418 102,418 102,417 103,417 103,417 103,417 104,417 104,416 104,416 105,416 105,416 105,416 105,416 106,415 106,415 106,415 107,415 107,415 107,415 107,414 108,414 108,414 108,414 109,414 109,414 109,413 109,413 110,413 110,413 110,413 111,412 111,412 111,412 111,412 112,412 112,412 112,411 113,411 113,411 113,411 113,411 114,411 114,410 114,410 115,410 115,410 115,410 116,409 116,409 116,409 116,409 117,409 117,409 117,408 118,408 118,408 118,408 118,408 119,408 119,407 119,407 120,407 120,407 120,407 120,406 121,406 121,406 121,406 122,406 122,406 122,405 122,405 123,405 123,405 123,405 124,405 124,404 124,404 124,404 125,404 125,404 125,403 126,403 126,403 126,403 127,403 127,403 127,402 127,402 128,402 128,402 128,402 129,402 129,401 129,401 129,401 130,401 130,401 130,401 131,400 131,400 131,400 131,400 132,400 132,399 132,399 133,399 133,399 133,399 133,399 134,398 134,398 134,398 135,398 135,398 135,398 135,397 136,397 136,397 136,397 137,397 137,396 137,396 138,396 138,396 138,396 138,396 139,395 139,395 139,395 140,395 140,395 140,395 140,394 141,394 141,394 141,394 142,394 142,393 142,393 142,393 143,393 143,393 143,393 144,392 144,392 144,392 144,392 145,392 145,392 145,391 146,391 146,391 146,391 146,391 147,390 147,390 147,390 148,390 148,390 148,390 149,389 149,389 149,389 149,389 150,389 150,389 150,388 151,388 151,388 151,388 151,388 152,388 152,387 152,387 153,387 153,387 153,387 153,386 154,386 154,386 154,386 155,386 155,386 155,385 155,385 156,385 156,385 156,385 157,385 157,384 157,384 157,384 158,384 158,384 158,383 159,383 159,383 159,383 160,383 160,383 160,382 160,382 161,382 161,382 161,382 162,382 162,381 162,381 162,381 163,381 163,381 163,380 164,380 164,380 164,380 164,380 165,380 165,379 165,379 166,379 166,379 166,379 166,379 167,378 167,378 167,378 168,378 168,378 168,378 168,377 169,377 169,377 169,377 170,377 170,376 170,376 171,376 171,376 171,376 171,376 172,375 172,375 172,375 173,375 173,375 173,375 173,374 174,374 174,374 174,374 175,374 175,373 175,373 175,373 176,373 176,373 176,373 177,372 177,372 177,372 177,372 178,372 178,372 178,371 179,371 179,371 179,371 179,371 180,370 180,370 180,370 181,370 181,370 181,370 182,369 182,369 182,369 182,369 183,369 183,369 183,368 184,368 184,368 184,368 184,368 185,367 185,367 185,367 186,367 186,367 186,367 186,366 187,366 187,366 187,366 188,366 188,366 188,365 188,365 189,365 189,365 189,365 190,365 190,364 190,364 190,364 191,364 191,364 191,363 192,363 192,363 192,363 193,363 193,363 193,362 193,362 194,362 194,362 194,362 195,362 195,361 195,361 195,361 196,361 196,361 196,360 197,360 197,360 197,360 197,360 198,360 198,359 198,359 199,359 199,359 199,359 199,359 200,358 200,358 200,358 201,358 201,358 201,357 201,357 202,357 202,357 202,357 203,357 203,356 203,356 204,356 204,356 204,356 204,356 205,355 205,355 205,355 206,355 206,355 206,354 206,354 207,354 207,354 207,354 208,354 208,354 208,354 208,354 209,354 209,354 209,354 210,354 210,354 210,353 210,353 211,353 211,354 211,353 212,354 212,353 212,354 212,354 213,354 213,354 213,354 214,353 214,353 214,353 215,353 215,353 215,354 215,353 216,353 216,353 216,353 217,353 217,353 217,353 217,353 218,353 218,354 218,354 219,354 219,354 219,354 219,353 220,354 220,353 220,354 221,354 221,354 221,354 221,354 222,353 222,353 222,353 223,353 223,353 223,353 223,353 224,353 224,353 224,354 225,353 225,354 225,354 226,354 226,354 226,354 226,354 227,354 227,353 227,354 228,354 228,354 228,354 228,354 229,354 229,354 229,353 230,354 230,353 230,354 230,354 231,354 231,354 231,354 232,354 232,354 232,353 232,353 233,353 233,353 233,353 234,353 234,353 234,354 234,353 235,354 235,353 235,353 236,353 236,354 236,353 237,354 237,354 237,354 237,353 238,354 238,353 238,353 239,353 239,353 239,353 239,353 240,353 240,354 240,353 241,353 241,353 241,354 241,353 242,353 242,353 242,353 243,353 243,353 243,353 243,353 244,353 244,353 244,353 245,353 245,353 245,353 245,353 246,353 246,353 246,353 247,353 247,354 247,353 248,354 248,353 248,353 248,353 249,353 249,353 249,354 250,353 250,354 250,353 250,353 251,353 251,354 251,354 252,354 252,354 252,354 252,353 253,354 253,354 253,354 254,353 254,354 254,353 254,353 255,353 255,353 255,353 256,354 256,353 256,354 256,353 257,353 257,353 257,353 258,353 258,353 258,353 259,353 259,353 259,353 259,353 260,353 260,353 260,353 261,353 261,354 261,353 261,354 262,353 262,353 262,353 263,354 263,354 263,354 263,354 264,354 264,354 264,354 265,353 265,354 265,353 265,354 266,353 266,354 266,353 267,353 267,353 267,353 267,353 268,353 268,353 268,353 269,353 269,354 269,354 270,354 270,354 270,354 270,354 271,354 271,354 271,354 272,354 272,354 272,353 272,354 273,353 273,353 273,353 274,354 274,353 274,354 274,354 275,354 275,354 275,354 276,353 276,353 276,353 276,353 277,353 277,353 277,353 278,353 278,353 278,354 278,353 279,354 279,353 279,354 280,353 280,353 280,353 281,353 281,353 281,353 281,353 282,353 282,353 282,353 283,353 283,353 283,353 283,353 284,353 284,354 284,354 285,354 285,353 285,353 285,353 286,353 286,353 286,353 287,353 287,353 287,353 287,353 288,353 288,353 288,353 289,354 289,353 289,353 289,353 290,353 290,353 290,354 291,354 291,354 291,353 292,354 292,353 292,353 292,353 293,353 293,353 293,353 294,353 294,354 294,354 294,354 295,354 295,354 295,353 296,353 296,353 296,354 296,354 297,354 297,354 297,354 298,354 298,354 298,354 298,354 299,354 299,354 299,353 300,353 300,353 300,353 300,353 301,353 301,353 301,353 302,353 302,353 302,353 303,354 303,354 303,354 303,353 304,353 304,353 304,353 305,353 305,353 305,353 305,353 306,353 306,353 306,353 307,354 307,353 307,354 307,354 308,354 308,354 308,354 309,354 309,354 309,354 309,354 310,354 310,354 310,354 311,354 311,353 311,354 311,354 312,354 312,354 312,354 313,354 313,354 313,353 314,353 314,353 314,354 314,353 315,354 315,353 315,354 316,353 316,354 316,353 316,354 317,354 317,354 317,354 318,354 318,354 318,354 318,353 319,354 319,353 319,354 320,353 320,354 320,353 320,354 321,353 321,354 321,353 322,354 322,353 322,354 322,353 323,354 323,353 323,354 324,353 324,354 324,354 325,354 325,353 325,353 325,353 326,354 326,353 326,354 327,354 327,354 327,353 327,354 328,353 328,353 328,353 329,354 329,354 329,354 329,354 330,354 330,354 330,354 331,354 331,354 331,353 331,354 332,353 332,354 332,354 333,354 333,354 333,354 334,354 334,354 334,354 334,354 335,353 335,353 335,353 336,353 336,353 336,353 336,353 337,353 337,353 337,354 338,354 338,354 338,354 338,354 339,354 339,354 339,353 340,354 340,353 340,353 340,353 341,354 341,354 341,354 342,353 342,353 342,353 342,354 343,353 343,354 343,354 344,354 344,353 344,353 345,353 345,353 345,353 345,353 346,353 346,354 346,353 347,354 347,354 347,354 347,353 348,353 348,353 348,354 349,354 349,354 349,353 349,353 350,353 350,354 350,354 351,354 351,354 351,354 351,353 352,354 352,353 352,354 353,353 353,354 353,353 353,354 354,353 354,354 354,353 355,354 355,353 355,354 356,354 356,354 356,354 356,354 357,353 357,353 357,353 358,354 358,354 358,354 358,354 359,354 359,353 359,354 360,354 360,354 360,353 360,353 361,353 361,353 361,353 362,353 362,353 362,353 362,353 363,354 363,353 363,353 364,353 364,353 364,353 364,354 365,353 365,354 365,353 366,354 366,353 366,354 367,353 367,354 367,354 367,354 368,354 368,354 368,353 369,354 369,353 369,353 369,353 370,354 370,353 370,354 371,354 371,354 371,353 371,354 372,353 372,353 372,353 373,353 373,353 373,353 373,353 374,353 374,353 374,354 375,354 375,354 375,354 375,354 376,354 376,354 376,354 377,354 377,353 377,353 378,353 378,354 378,353 378,354 379,353 379,353 379,353 380,354 380,353 380,353 380,353 381,353 381,353 381,353 382,353 382,353 382,353 382,354 383,354 383,354 383,354 384,354 384,354 384,354 384,354 385,354 385,354 385,354 386,354 386,354 386,353 386,354 387,354 387,354 387,353 388,353 388,353 388,353 389,353 389,354 389,353 389,354 390,354 390,354 390,353 391,353 391,353 391,354 391,354 392,354 392,353 392,353 393,353 393,353 393,353 393,353 394,353 394,354 394,354 395,354 395,354 395,354 395,353 396,353 396,353 396,354 397,353 397,354 397,354 397,354 398,354 398,354 398,353 399,354 399,353 399,354 400,353 400,353 400,353 400,353 401,353 401,354 401,354 402,354 402,353 402,354 402,353 403,353 403,353 403,353 404,353 404,353 404,353 404,353 405,353 405,353 405,353 406,354 406,353 406,353 406,353 407,353 407,353 407,353 408,353 408,354 408,354 408,354 409,353 409,354 409,353 410,354 410,353 410,353 411,353 411,354 411,353 411,354 412,353 412,354 412,354 413,354 413,353 413,353 413,353 414,354 414,353 414,354 415,353 415,354 415,353 415,354 416,353 416,354 416,354 417,354 417,353 417,353 417,353 418,353 418,353 418,353 419,353 419,353 419,353 419,353 420,353 420,353 420,353 421,354 421,353 421,354 422,353 422,353 422,353 422,353 423,353 423,353 423,353 424,353 424,353 424,353 424,353 425,353 425,353 425,353 426,353 426,353 426,353 426,354 427,353 427,353 427,353 428,353 428,353 428,353 428,353 429,354 429,354 429,354 430,353 430,353 430,353 430,353 431,353 431,354 431,353 432,353 432,353 432,353 433,353 433,353 433,353 433,354 434,353 434,354 434,354 435,354 435,353 435,354 435,353 436,353 436,353 436,354 437,353 437,353 437,353 437,353 438,353 438,354 438,354 439,354 439,354 439,354 439,354 440,354 440,354 440,354 441,353 441,354 441,353 441,354 442,354 442,354 442,354 443,354 443,354 443,354 444,354 444,354 444,354 444,354 445,353 445,354 445,353 446,353 446,353 446,354 446,353 447,353 447,353 447,354 448,353 448,353 448,353 448,354 449,353 449,354 449,353 450,354 450,354 450,354 450,353 451,354 451,354 451,354 452,354 452,354 452,354 452,354 453,354 453,354 453,353 454,354 454,353 454,354 455,353 455,353 455,353 455,354 456,353 456,354 456,353 457,354 457,354 457,354 457,353 458,353 458,353 458,353 459,353 459,353 459,353 459,353 460,353 460,353 460,353 461,353 461,353 461,353 461,353 462,353 462,353 462,353 463,353 463,353 463,353 463,354 464,353 464,354 464,353 465,354 465,354 465,354 466,354 466,354 466,354 466,354 467,353 467,354 467,354 468,354 468,354 468,354 468,353 469,353 469,353 469,353 470,353 470,354 470,353 470,353 471,353 471,354 471,354 472,354 472,353 472,354 472,354 473,354 473,354 473,354 474,353 474,354 474,353 474,353 475,353 475,353 475,353 476,353 476,353 476,353 477,353 477,354 477,353 477,354 478,353 478,353 478,353 479,353 479,353 479,353 479,353 480,353 480,353 480,353 481,353 481,353 481,353 481,354 482,354 482,354 482,354 483,354 483,353 483,353 483,353 484,354 484,354 484,354 485,354 485,354 485,353 485,354 486,353 486,353 486,353 487,354 487,353 487,353 488,353 488,353 488,353 488,353 489,353 489,353 489,353 490,354 490,354 490,354 490,354 491,354 491,353 491,354 492,353 492,353 492,353 492,354 493,353 493,353 493,353 494,353 494,353 494,354 494,353 495,354 495,353 495,353 496,353 496,353 496,353 496,353 497,353 497,354 497,353 498,354 498,353 498,354 499,354 499,354 499,353 499,353 500,353 500,353 500,353 501,353 501,353 501,353 501,353 502,353 502,353 502,353 503,353 503,353 503,353 503,353 504,353 504,354 504,353 505,353 505,353 505,354 505,353 506,353 506,353 506,353 507,353 507,354 507,353 507,354 508,353 508,354 508,354 509,354 509,353 509,354 510,353 510,354 510,353 510,353 511,353 511,353 511,353 512,353 512,353 512,353 512,353 513,353 513,353 513,353 514,353 514,353 514,353 514,353 515,353 515,354 515,353 516,353 516,353 516,353 516,353 517,353 517,353 517,354 518,354 518,354 518,353 518,354 519,353 519,354 519,354 520,354 520,354 520,354 521,353 521,353 521,353 521,354 522,353 522,354 522,353 523,354 523,353 523,353 523,353 524,354 524,353 524,354 525,353 525,353 525,353 525,353 526,353 526,354 526,353 527,354 527,353 527,353 527,353 528,354 528,354 528,354 529,353 529,353 529,353 529,354 530,353 530,354 530,354 531,354 531,353 531,354 532,353 532,353 532,353 532,353 533,353 533,353 533,353 534,353 534,353 534,353 534,353 535,353 535,353 535,353 536,353 536,354 536,353 536,354 537,353 537,354 537,354 538,354 538,354 538,354 538,353 539,353 539,353 539,354 540,353 540,354 540,354 540,354 541,353 541,353 541,353 542,353 542,353 542,354 543,353 543,354 543,353 543,354 544,353 544,354 544,353 545,354 545,353 545,353 545,353 546,353 546,353 546,353 547,353 547,353 547,353 547,353 548,353 548,354 548,354 549,354 549,354 549,354 549,353 550,354 550,354 550,354 551,353 551,354 551,353 551,354 552,353 552,354 552,353 553,353 553,353 553,354 554,353 554,354 554,353 554,353 555,353 555,354 555,353 556,353 556,353 556,353 556,353 557,353 557,353 557,353 558,353 558,354 558,354 558,354 559,353 559,354 559,353 560,354 560,353 560,354 560,354 561,354 561,353 561,353 562,353 562,353 562,353 562,353 563,353 563,353 563,353 564,353 564,353 564,353 565,353 565,353 565,353 565,354 566,353 566,354 566,353 567,353 567,353 567,353 567,353 568,353 568,353 568,353 569,353 569,354 569,353 569,354 570,354 570,354 570,354 571,354 571,354 571,354 571,353 572,354 572,353 572,354 573,353 573,353 573,353 573,354 574,353 574,354 574,354 575,354 575,353 575,354 576,354 576,354 576,354 576,354 577,354 577,354 577,354 578,354 578,354 578,354 578,354 579,354 579,354 579,354 580,354 580,354 580,353 580,354 581,354 581,354 581,353 582,353 582,353 582,353 582,353 583,353 583,353 583,353 584,353 584,354 584,353 584,354 585,353 585,353 585,353 586,353 586,353 586,353 587,353 587,353 587,353 587,353 588,353 588,354 588,353 589,354 589,354 589,354 589,353 590,353 590,353 590,354 591,354 591,354 591,354 591,354 592,354 592,354 592,354 593,354 593,354 593,354 593,353 594,354 594,353 594,354 595,353 595,353 595,353 595,353 596,353 596,354 596,353 597,354 597,353 597,353 598,353 598,353 598,353 598,353 599,353 599,353 599,353 600,353 600,353 600,354 600,353 601,353 601,353 601,354 602,354 602,354 602,354 602,354 603,353 603,353 603,353 604,354 604,353 604,354 604,354 605,354 605,354 605,354 606,354 606,354 606,354 606,354 607,354 607,354 607,353 608,353 608,353 608,353 609,353 609,354 609,353 609,353 610,353 610,354 610,353 611,353 611,353 611,354 611,353 612,354 612,354 612,354 613,354 613,354 613,354 613,354 614,354 614,354 614,354 615,354 615,354 615,354 615,354 616,354 616,354 616,354 617,353 617,353 617,353 618,354 618,353 618,353 618,353 619,353 619,353 619,354 620,353 620,354 620,354 620,354 621,354 621,354 621,353 622,354 622,354 622,354 622,354 623,354 623,353 623,354 624,353 624,354 624,353 624,354 625,353 625,354 625,353 626,354 626,353 626,354 626,353 627,353 627,353 627,354 628,354 628,354 628,354 \"/>\n",
       "</svg>\n",
       "</div>"
      ],
      "text/plain": [
       "Timing: false\n",
       "sccache: true\n"
      ]
     },
     "execution_count": 11,
     "metadata": {},
     "output_type": "execute_result"
    }
   ],
   "source": [
    ":timing 1\n",
    ":sccache 1\n",
    ":dep rand = \"0.8.5\"\n",
    ":dep rand_distr = \"0.4.3\"\n",
    ":dep plotters = { version=\"0.3.4\", default_features = false, features = [\"evcxr\", \"all_series\"] }\n",
    "\n",
    "use rand_distr::Distribution;\n",
    "\n",
    "/// Для этого задания мы должны хранить:\n",
    "struct Task7 {\n",
    "    /// количество людей в городе\n",
    "    pub citizen_count: u64,\n",
    "    /// вероятность того, что один человек будет на поезде\n",
    "    pub citizen_train_probability: f64,\n",
    "    /// текущий размер поезда\n",
    "    pub current_train_capacity: u64,\n",
    "}\n",
    "\n",
    "impl Task7 {\n",
    "        pub fn new() -> Self {\n",
    "        Task7 {\n",
    "            citizen_count: 2500,\n",
    "            citizen_train_probability: 6.0 / 30.0,\n",
    "            // Сначала пусть размер поезда равен нулю. \n",
    "            current_train_capacity: 0,\n",
    "        }\n",
    "    }\n",
    "    \n",
    "    /// Для определенного размера мы считаем вероятность переполнения поезда\n",
    "    pub fn overfill_probability<T: rand::Rng>(&self, rng: &mut T, samples: usize) -> f64 {\n",
    "        // Количество людей на поезде в один день следует биномиальному распределению\n",
    "        let train_users_distribution = rand_distr::Binomial::new(\n",
    "            self.citizen_count, self.citizen_train_probability\n",
    "        ).unwrap();\n",
    "        // Считаем количество раз, когда поезд переполнен\n",
    "        let mut overfilled = 0;\n",
    "        for _ in 0..samples {\n",
    "            // Если измерение из распределения оказывается больше размера поезда,\n",
    "            // считаем это как переполнение поезда\n",
    "            let train_users = train_users_distribution.sample(rng);\n",
    "            if train_users > self.current_train_capacity {\n",
    "                overfilled += 1\n",
    "            }\n",
    "        }\n",
    "        (overfilled as f64) / (samples as f64)\n",
    "    }\n",
    "    \n",
    "    /// На каждом шаге мы оцениваем разницу между вероятностями\n",
    "    /// переполнения, которая наблюдалась и которая должна быть на самом деле,\n",
    "    /// и изменяем размер поезда, чтобы совместить их.\n",
    "    pub fn adjust_train_capacity(&mut self, desired: f64, got: f64) {\n",
    "        // Погрешность -- это разница между двумя вероятностями\n",
    "        let error = got - desired;\n",
    "        // Если погрешность отрицательная, значит поезд слишком большой\n",
    "        if error < 0.0 {\n",
    "            self.current_train_capacity -= 1;\n",
    "        } else { // Иначе поезд слишком маленький\n",
    "            self.current_train_capacity += 1;\n",
    "        }\n",
    "        \n",
    "        // (Для простоты я здесь использую шаг в одну единицу размера -- \n",
    "        // для оптимальности этот шаг должен быть пропорциональным погрешности.)\n",
    "    }\n",
    "}\n",
    "\n",
    "// Чтобы проверить, что ответ сошелся, мы рисуем график размера поезда от шагов.\n",
    "extern crate plotters;\n",
    "use plotters::prelude::*;\n",
    "\n",
    "let figure = {\n",
    "    // Требуется достичь одной неудачи из 100 дней.\n",
    "    let one_fail_per_days = 100.0f64;\n",
    "    \n",
    "    let mut task = Task7::new();\n",
    "    let mut rng = rand::thread_rng();\n",
    "    let figure = evcxr_figure((640, 480), |root|{\n",
    "        // Инициализируем область для рисования графика\n",
    "        root.fill(&WHITE)?;\n",
    "        let root = root.margin(10, 10, 10, 10);\n",
    "    \n",
    "        // График имеет декартовы координаты (0--2000)x(0--2500)\n",
    "        let mut chart = ChartBuilder::on(&root)\n",
    "        .x_label_area_size(20)\n",
    "        .y_label_area_size(40)\n",
    "        .build_cartesian_2d(0f32..2000f32, 0f32..2500f32)?;\n",
    "        \n",
    "        // У графика есть сетка с 10 делениями по Y-оси\n",
    "         chart.configure_mesh()\n",
    "        .y_labels(10)\n",
    "        .light_line_style(&TRANSPARENT)\n",
    "        .disable_x_mesh()\n",
    "        .draw()?;\n",
    "        \n",
    "        let mut points = vec![];\n",
    "        \n",
    "        for i in 0..2000 {\n",
    "            // Записываем текущий размер поезда\n",
    "            points.push( (i as f32, task.current_train_capacity as f32) );\n",
    "            // Считаем вероятность переполнения поезда\n",
    "            let overfill_prob = task.overfill_probability(&mut rng, 1000);\n",
    "            // Изменяем объем поезда относительно вероятности неудачи\n",
    "            task.adjust_train_capacity(1.0 / one_fail_per_days, overfill_prob);\n",
    "        }\n",
    "        // Рисуем точки как красную линию\n",
    "        chart.draw_series(LineSeries::new(\n",
    "            points,\n",
    "            &RED,\n",
    "        ))?;\n",
    "        \n",
    "        // Выводим текстовый ответ\n",
    "        println!(\"В поселке {} жителей. Каждый из них примерно {} раз в месяц ездит на поезде в город (т.е.\n",
    "с вероятностью {}), выбирая дни поездок по случайным мотивам независимо от остальных. Поезд\n",
    "ходит один раз в сутки. Какой наименьшей вместимостью должен обладать поезд, чтобы он\n",
    "переполнялся в среднем не чаще одного раза в {} дней (т.е. с вероятностью {})? -- {}\",\n",
    "        task.citizen_count,\n",
    "            task.citizen_train_probability/ (1.0 / 30.0),\n",
    "            task.citizen_train_probability,\n",
    "            one_fail_per_days,\n",
    "            1.0 / one_fail_per_days,\n",
    "            task.current_train_capacity\n",
    "        );\n",
    "        answers.task_7 = Some(task.current_train_capacity);\n",
    "\n",
    "        Ok(())\n",
    "    });\n",
    "    figure\n",
    "};\n",
    "figure"
   ]
  },
  {
   "cell_type": "code",
   "execution_count": 12,
   "id": "1d0a6cb5",
   "metadata": {},
   "outputs": [
    {
     "name": "stdout",
     "output_type": "stream",
     "text": [
      "В зале кинотеатра 5 мест и все 5 билетов были распроданы. Когда посетители пришли в\n",
      "зал, свет в зале не работал (номера мест не видны) и каждому пришлось выбирать себе место наугад.\n",
      "Чему равна вероятность того, что все 5 посетителей сели мимо своих мест (указанных в билете)? -- 0.366745\n",
      "В зале кинотеатра 50 мест и все 50 билетов были распроданы. Когда посетители пришли в\n",
      "зал, свет в зале не работал (номера мест не видны) и каждому пришлось выбирать себе место наугад.\n",
      "Чему равна вероятность того, что все 50 посетителей сели мимо своих мест (указанных в билете)? -- 0.367519\n",
      "В зале кинотеатра 100 мест и все 100 билетов были распроданы. Когда посетители пришли в\n",
      "зал, свет в зале не работал (номера мест не видны) и каждому пришлось выбирать себе место наугад.\n",
      "Чему равна вероятность того, что все 100 посетителей сели мимо своих мест (указанных в билете)? -- 0.367601\n"
     ]
    },
    {
     "data": {
      "text/plain": [
       "Timing: true\n",
       "sccache: true\n"
      ]
     },
     "execution_count": 12,
     "metadata": {},
     "output_type": "execute_result"
    },
    {
     "data": {
      "text/html": [
       "<span style=\"color: rgba(0,0,0,0.4);\">Took 3043ms</span>"
      ]
     },
     "execution_count": 12,
     "metadata": {},
     "output_type": "execute_result"
    }
   ],
   "source": [
    ":timing 1\n",
    ":sccache 1\n",
    ":dep rand = \"0.8.5\"\n",
    "\n",
    "use rand::prelude::{SliceRandom, IteratorRandom};\n",
    "struct Task8(usize);\n",
    "\n",
    "impl Experiment for Task8 {\n",
    "    type Outcome = bool;\n",
    "    fn description(&self) -> String {\n",
    "        format!(\"В зале кинотеатра {} мест и все {} билетов были распроданы. Когда посетители пришли в\n",
    "зал, свет в зале не работал (номера мест не видны) и каждому пришлось выбирать себе место наугад.\n",
    "Чему равна вероятность того, что все {} посетителей сели мимо своих мест (указанных в билете)?\", self.0, self.0, self.0)\n",
    "    }\n",
    "    fn try_it<T: rand::Rng>(&self, rng: &mut T) -> Self::Outcome {\n",
    "        // Составляем список посетителей и перемешиваем его\n",
    "        let mut visitors: Vec<usize> = (0..self.0).collect();\n",
    "        visitors.shuffle(rng);\n",
    "        for (i, p) in visitors.iter().enumerate() {\n",
    "            if i == *p {\n",
    "                // Если чей-то номер совпал с их номером билета, то опыт не удался\n",
    "                return false;\n",
    "            }\n",
    "        }\n",
    "        // Иначе, все сели мимо своих мест, и опыт удался\n",
    "        true\n",
    "    }\n",
    "    \n",
    "    fn desired_outcomes(&self) -> Vec<Self::Outcome> {vec![true]}\n",
    "}\n",
    "\n",
    "let a = Task8(5);\n",
    "let aans = a.probability_of_desired(1_000_000);\n",
    "println!(\"{} -- {}\", a.description(), aans);\n",
    "let b = Task8(50);\n",
    "let bans = b.probability_of_desired(1_000_000);\n",
    "println!(\"{} -- {}\", b.description(), bans);\n",
    "let c = Task8(100);\n",
    "let cans = c.probability_of_desired(1_000_000);\n",
    "println!(\"{} -- {}\", c.description(), cans);\n",
    "answers.task_8 = Some((aans, bans, cans));\n"
   ]
  },
  {
   "cell_type": "code",
   "execution_count": 13,
   "id": "ca7de98a",
   "metadata": {},
   "outputs": [
    {
     "name": "stdout",
     "output_type": "stream",
     "text": [
      "На факультете работает 6 профессоров, 6 доцентов, 10 старших преподавателей и 12\n",
      "ассистентов. Из работников факультета случайным образом формируется комитет из 6 участников.\n",
      "Чему равна вероятность того, что в комитет войдет по крайней мере один человек каждой должности? -- 0.378413\n"
     ]
    },
    {
     "data": {
      "text/plain": [
       "Timing: false\n",
       "sccache: true\n"
      ]
     },
     "execution_count": 13,
     "metadata": {},
     "output_type": "execute_result"
    }
   ],
   "source": [
    ":timing 1\n",
    ":sccache 1\n",
    ":dep rand = \"0.8.5\"\n",
    ":dep itertools = \"0.10.5\"\n",
    "\n",
    "use rand::prelude::{SliceRandom, IteratorRandom};\n",
    "\n",
    "/// В этом задании есть 4 группы, из которых набираются члены в группу определенного размера;\n",
    "/// здесь мы храним размеры этих групп.\n",
    "struct Task9{\n",
    "    pub group_size: usize,\n",
    "    pub cat1_size: usize,\n",
    "    pub cat2_size: usize,\n",
    "    pub cat3_size: usize,\n",
    "    pub cat4_size: usize,\n",
    "}\n",
    "\n",
    "impl Task9 {\n",
    "    pub fn new() -> Self {\n",
    "        Task9 {\n",
    "            group_size: 6,\n",
    "            cat1_size: 6,\n",
    "            cat2_size: 6,\n",
    "            cat3_size: 10,\n",
    "            cat4_size: 12,\n",
    "        }\n",
    "    }\n",
    "}\n",
    "\n",
    "use core::iter::repeat;\n",
    "use itertools::Itertools;\n",
    "impl Experiment for Task9 {\n",
    "    type Outcome = u8;\n",
    "    fn description(&self) -> String {\n",
    "        format!(\"На факультете работает {} профессоров, {} доцентов, {} старших преподавателей и {}\n",
    "ассистентов. Из работников факультета случайным образом формируется комитет из {} участников.\n",
    "Чему равна вероятность того, что в комитет войдет по крайней мере один человек каждой должности?\",\n",
    "        self.cat1_size,\n",
    "        self.cat2_size,\n",
    "        self.cat3_size,\n",
    "        self.cat4_size,\n",
    "        self.group_size,\n",
    "        )\n",
    "    }\n",
    "    fn try_it<T: rand::Rng>(&self, rng: &mut T) -> Self::Outcome {\n",
    "        // Группу можно набрать, только если членов всех остальных групп достаточно\n",
    "        assert!(self.cat1_size + self.cat2_size + self.cat3_size + self.cat4_size >= self.group_size);\n",
    "        // Составляем список, состоящий из значений 1, 2, 3 и 4 для каждой из исходных групп.\n",
    "        let mut members: Vec<u8> = Vec::with_capacity(self.cat1_size + self.cat2_size + self.cat3_size + self.cat4_size);\n",
    "        members.extend(repeat(1).take(self.cat1_size));\n",
    "        members.extend(repeat(2).take(self.cat2_size));\n",
    "        members.extend(repeat(3).take(self.cat3_size));\n",
    "        members.extend(repeat(4).take(self.cat4_size));\n",
    "        // Перемешиваем этот список\n",
    "        members.shuffle(rng);\n",
    "        // Берем первые несколько элементов, из них выбираем уникальные и считаем их\n",
    "        members.iter().take(self.group_size).unique().count() as u8\n",
    "    }\n",
    "    \n",
    "    /// Нам нужно, чтобы уникальных элементов было 4.\n",
    "    fn desired_outcomes(&self) -> Vec<Self::Outcome> {vec![4]}\n",
    "}\n",
    "\n",
    "let a = Task9::new();\n",
    "let prob = a.probability_of_desired(1_000_000);\n",
    "println!(\"{} -- {}\", a.description(), prob);\n",
    "answers.task_9 = Some(prob);"
   ]
  },
  {
   "cell_type": "code",
   "execution_count": 14,
   "id": "c20ee79c",
   "metadata": {},
   "outputs": [
    {
     "name": "stdout",
     "output_type": "stream",
     "text": [
      "Чему равна вероятность того, что 4 случайно выбранные точки в данном выпуклом\n",
      "множестве являются вершинами вогнутого четырехугольника? -- 0.295522\n"
     ]
    },
    {
     "data": {
      "text/plain": [
       "Timing: true\n",
       "sccache: true\n"
      ]
     },
     "execution_count": 14,
     "metadata": {},
     "output_type": "execute_result"
    },
    {
     "data": {
      "text/html": [
       "<span style=\"color: rgba(0,0,0,0.4);\">Took 1874ms</span>"
      ]
     },
     "execution_count": 14,
     "metadata": {},
     "output_type": "execute_result"
    }
   ],
   "source": [
    ":timing 1\n",
    ":sccache 1\n",
    ":dep rand = \"0.8.5\"\n",
    ":dep rand_distr = \"0.4.3\"\n",
    "\n",
    "\n",
    "/// Для этой задачи требуется хранить экземпляр распределения,\n",
    "/// членами которого являются пары действительных чисел.\n",
    "struct Task10<T: rand_distr::Distribution<[f64; 2]>> {\n",
    "    distribution: T,\n",
    "}\n",
    "\n",
    "// Эти функции взяты из данного ответа на StackOverflow:\n",
    "// https://stackoverflow.com/a/2049593/5936187\n",
    "// Они связаны с вопросом того, находится ли точка внутри треугольника.\n",
    "fn sign(a: [f64; 2], b: [f64; 2], c: [f64; 2]) -> f64 {\n",
    "    (a[0]-c[0]) * (b[1]-c[1]) - (b[0]-c[0]) * (a[1]-c[1])\n",
    "}\n",
    "\n",
    "fn point_in_triangle(p: [f64;2], a: [f64; 2], b: [f64; 2], c: [f64; 2]) -> bool {\n",
    "    let d1 = sign(p, a, b);\n",
    "    let d2 = sign(p, b, c);\n",
    "    let d3 = sign(p, c, a);\n",
    "    let has_neg = (d1<0.0) || (d2<0.0) || (d3<0.0);\n",
    "    let has_pos = (d1>0.0) || (d2>0.0) || (d3>0.0);\n",
    "    !(has_neg && has_pos)\n",
    "}\n",
    "\n",
    "impl<T> Experiment for Task10<T>\n",
    "where T: rand_distr::Distribution<[f64; 2]>\n",
    "{\n",
    "    type Outcome = bool;\n",
    "    fn description(&self) -> String {\n",
    "        format!(\"Чему равна вероятность того, что 4 случайно выбранные точки в данном выпуклом\n",
    "множестве являются вершинами вогнутого четырехугольника?\")\n",
    "    }\n",
    "    fn try_it<R: rand::Rng>(&self, rng: &mut R) -> Self::Outcome {\n",
    "        // Сначала мы выбираем 4 точки из данного распределения\n",
    "        let (a,b,c,d) = (\n",
    "            self.distribution.sample(rng),\n",
    "            self.distribution.sample(rng),\n",
    "            self.distribution.sample(rng),\n",
    "            self.distribution.sample(rng),\n",
    "        );\n",
    "        // Чтобы определить, является ли четырехугольник вогнутым, мы проверяем:\n",
    "        // Можно ли выбрать три точки так, что четвертая точка находится посреди них?\n",
    "        // Если да, то этот четырехугольник вогнутый,\n",
    "        // а иначе он равен своей выпуклой оболочке и поэтому выпуклый.\n",
    "        for ordering in [a,b,c,d].iter().permutations(4) {\n",
    "            if point_in_triangle(*ordering[0], *ordering[1], *ordering[2], *ordering[3]) {\n",
    "                return true;\n",
    "            }\n",
    "        }\n",
    "        false\n",
    "    }\n",
    "    \n",
    "    fn desired_outcomes(&self) -> Vec<Self::Outcome> {vec![true]}\n",
    "}\n",
    "\n",
    "let a = Task10 {\n",
    "  distribution: rand_distr::UnitDisc,\n",
    "};\n",
    "\n",
    "let prob = a.probability_of_desired(1_000_000);\n",
    "println!(\"{} -- {}\", a.description(), prob);\n",
    "answers.task_10 = Some(prob);"
   ]
  },
  {
   "cell_type": "code",
   "execution_count": 17,
   "id": "cfbbec65",
   "metadata": {},
   "outputs": [
    {
     "name": "stdout",
     "output_type": "stream",
     "text": [
      "Задание 1: 0.725906\n",
      "Задание 2: 0.7984\n"
     ]
    },
    {
     "data": {
      "text/html": [
       "<span style=\"color: rgba(0,0,0,0.4);\">Took 388ms</span>"
      ]
     },
     "execution_count": 17,
     "metadata": {},
     "output_type": "execute_result"
    },
    {
     "name": "stdout",
     "output_type": "stream",
     "text": [
      "Задание 3: 0.254331\n",
      "Задание 4: 0.49964\n",
      "Задание 5: 6.537402833236494\n",
      "Задание 6: 0.3688154219891535\n",
      "Задание 7: 546\n",
      "Задание 8: (0.366745, 0.367519, 0.367601)\n",
      "Задание 9: 0.378413\n",
      "Задание 10: 0.295522\n"
     ]
    }
   ],
   "source": [
    "// Посмотреть состояние ответов на задания\n",
    "println!(\"Задание 1: {:?}\", answers.task_1.unwrap());\n",
    "println!(\"Задание 2: {:?}\", answers.task_2.unwrap());\n",
    "println!(\"Задание 3: {:?}\", answers.task_3.unwrap());\n",
    "println!(\"Задание 4: {:?}\", answers.task_4.unwrap());\n",
    "println!(\"Задание 5: {:?}\", answers.task_5.unwrap());\n",
    "println!(\"Задание 6: {:?}\", answers.task_6.unwrap());\n",
    "println!(\"Задание 7: {:?}\", answers.task_7.unwrap());\n",
    "println!(\"Задание 8: {:?}\", answers.task_8.unwrap());\n",
    "println!(\"Задание 9: {:?}\", answers.task_9.unwrap());\n",
    "println!(\"Задание 10: {:?}\", answers.task_10.unwrap());"
   ]
  },
  {
   "cell_type": "code",
   "execution_count": null,
   "id": "d67c5525",
   "metadata": {},
   "outputs": [],
   "source": []
  }
 ],
 "metadata": {
  "kernelspec": {
   "display_name": "Rust",
   "language": "rust",
   "name": "rust"
  },
  "language_info": {
   "codemirror_mode": "rust",
   "file_extension": ".rs",
   "mimetype": "text/rust",
   "name": "Rust",
   "pygment_lexer": "rust",
   "version": ""
  }
 },
 "nbformat": 4,
 "nbformat_minor": 5
}
