{
 "cells": [
  {
   "cell_type": "code",
   "execution_count": 3,
   "id": "47656b42",
   "metadata": {},
   "outputs": [
    {
     "data": {
      "text/plain": [
       "Timing: false\n",
       "sccache: true\n"
      ]
     },
     "execution_count": 3,
     "metadata": {},
     "output_type": "execute_result"
    }
   ],
   "source": [
    ":timing 1\n",
    ":sccache 1\n"
   ]
  },
  {
   "cell_type": "code",
   "execution_count": 4,
   "id": "3beb4dd8",
   "metadata": {},
   "outputs": [
    {
     "data": {
      "text/plain": [
       "Timing: true\n",
       "sccache: true\n",
       "0.25876511930706436"
      ]
     },
     "execution_count": 4,
     "metadata": {},
     "output_type": "execute_result"
    },
    {
     "data": {
      "text/html": [
       "<span style=\"color: rgba(0,0,0,0.4);\">Took 10685ms</span>"
      ]
     },
     "execution_count": 4,
     "metadata": {},
     "output_type": "execute_result"
    }
   ],
   "source": [
    ":timing 1\n",
    ":sccache 1\n",
    "\n",
    ":dep rand = \"0.8.5\"\n",
    ":dep itertools = \"0.10.5\"\n",
    "use rand::Rng;\n",
    "let mut rng = rand::thread_rng();\n",
    "let y: f64 = rng.gen(); // generates a float between 0 and 1\n",
    "y"
   ]
  },
  {
   "cell_type": "code",
   "execution_count": 18,
   "id": "163dd9fe",
   "metadata": {},
   "outputs": [
    {
     "data": {
      "text/plain": [
       "Timing: false\n",
       "sccache: true\n"
      ]
     },
     "execution_count": 18,
     "metadata": {},
     "output_type": "execute_result"
    }
   ],
   "source": [
    ":timing 1\n",
    ":sccache 1\n",
    "\n",
    "trait Experiment {\n",
    "    type Outcome: Ord+Eq+std::hash::Hash+Sized;\n",
    "    fn desired_outcomes(&self) -> Vec<Self::Outcome>;\n",
    "    \n",
    "    fn try_it<T: rand::Rng>(&self, rng: &mut T) -> Self::Outcome;\n",
    "    fn collect_stats(&self, trials: usize) -> std::collections::HashMap<Self::Outcome, usize> {\n",
    "        let mut outcomes = std::collections::HashMap::new();\n",
    "        let mut rng = rand::thread_rng();\n",
    "        for _ in 0..trials {\n",
    "            let outcome = <Self as Experiment>::try_it(&self, &mut rng);\n",
    "            outcomes.entry(outcome).and_modify(|i| *i += 1).or_insert(1);\n",
    "        }\n",
    "        outcomes\n",
    "    }\n",
    "    fn probability_of_outcomes(&self, trials: usize, desired_outcomes: &[Self::Outcome]) -> f64 {\n",
    "        let outcomes = self.collect_stats(trials);\n",
    "        let mut ok_outcomes = 0.0;\n",
    "        for outcome in desired_outcomes {\n",
    "            ok_outcomes += (*outcomes.get(&outcome).unwrap_or(&0) as f64);\n",
    "        }\n",
    "        ok_outcomes / (trials as f64)\n",
    "    }\n",
    "    \n",
    "    fn probability_of_desired(&self, trials: usize) -> f64 {\n",
    "        self.probability_of_outcomes(trials, &<Self as Experiment>::desired_outcomes(&self))\n",
    "    }\n",
    "    fn description(&self) -> String;\n",
    "}\n",
    "\n",
    "trait PartialExperiment {\n",
    "    type Outcome: PartialOrd+PartialEq+Sized;\n",
    "    \n",
    "    fn try_it<T: rand::Rng>(&self, rng: &mut T) -> Self::Outcome;\n",
    "    fn collect_stats(&self, trials: usize) -> Vec<Self::Outcome> {\n",
    "        let mut outcomes = Vec::with_capacity(trials);\n",
    "        let mut rng = rand::thread_rng();\n",
    "        for _ in 0..trials {\n",
    "            let outcome = <Self as PartialExperiment>::try_it(&self, &mut rng);\n",
    "            outcomes.push(outcome)\n",
    "        }\n",
    "        outcomes\n",
    "    }\n",
    "    fn description(&self) -> String;\n",
    "}"
   ]
  },
  {
   "cell_type": "code",
   "execution_count": 8,
   "id": "be70232e",
   "metadata": {},
   "outputs": [
    {
     "name": "stdout",
     "output_type": "stream",
     "text": [
      "Чему равна вероятность того, что случайный треугольник, нарисованный внутри\n",
      "квадрата со стороной 1, является тупоугольным? -- 0.72873\n"
     ]
    },
    {
     "data": {
      "text/plain": [
       "Timing: false\n",
       "sccache: true\n"
      ]
     },
     "execution_count": 8,
     "metadata": {},
     "output_type": "execute_result"
    }
   ],
   "source": [
    ":timing 1\n",
    ":sccache 1\n",
    "\n",
    "use itertools::Itertools;\n",
    "\n",
    "struct Task1;\n",
    "impl Task1 {\n",
    "    pub fn new() -> Self {\n",
    "        Task1 {}\n",
    "    }\n",
    "}\n",
    "\n",
    "type Vec2 = (f64, f64);\n",
    "\n",
    "fn magnitude(v: Vec2) -> f64 {\n",
    "    let (a, b) = v;\n",
    "    (a*a + b*b).sqrt()\n",
    "}\n",
    "\n",
    "fn dot(v1: Vec2, v2: Vec2) -> f64 {\n",
    "    v1.0 * v2.0 + v1.1 * v2.1\n",
    "}\n",
    "\n",
    "fn angle(v1: Vec2, v2: Vec2) -> f64 {\n",
    "    f64::acos(dot(v1, v2) / (magnitude(v1) * magnitude(v2)))\n",
    "}\n",
    "\n",
    "impl Experiment for Task1 {\n",
    "    type Outcome = bool;\n",
    "    fn description(&self) -> String {\n",
    "        \"Чему равна вероятность того, что случайный треугольник, нарисованный внутри\n",
    "квадрата со стороной 1, является тупоугольным?\".to_string()\n",
    "    }\n",
    "    fn try_it<T: rand::Rng>(&self, rng: &mut T) -> Self::Outcome {\n",
    "        let pa: (f64, f64) = (rng.gen(), rng.gen());\n",
    "        let pb: (f64, f64) = (rng.gen(), rng.gen());\n",
    "        let pc: (f64, f64) = (rng.gen(), rng.gen());\n",
    "        let va = (pa.0 - pb.0, pa.1 - pb.1);\n",
    "        let vb = (pa.0 - pc.0, pa.1 - pc.1);\n",
    "        let vc = (pc.0 - pb.0, pc.1 - pb.1);\n",
    "        for permut in [va, vb, vc].iter().permutations(3) {\n",
    "            let magnitudes: Vec<f64> = permut.iter().map(|x| magnitude(**x)).collect();\n",
    "            // a*a + b*b < c*c -> triangle is obtuse\n",
    "            if (magnitudes[0] * magnitudes[0]) + (magnitudes[1] * magnitudes[1]) < (magnitudes[2] * magnitudes[2]) {\n",
    "                return true;\n",
    "            }\n",
    "            \n",
    "        }\n",
    "        false\n",
    "    }\n",
    "    \n",
    "    fn desired_outcomes(&self) -> Vec<Self::Outcome> {vec![true]}\n",
    "}\n",
    "\n",
    "let a = Task1{};\n",
    "println!(\"{} -- {}\", a.description(), a.probability_of_desired(100000));"
   ]
  },
  {
   "cell_type": "code",
   "execution_count": 9,
   "id": "3d9ff5e8",
   "metadata": {},
   "outputs": [
    {
     "name": "stdout",
     "output_type": "stream",
     "text": [
      "Чему равна вероятность того, что случайный треугольник, нарисованный внутри\n",
      "прямоугольника, у которого одна сторона в 2 раза длиннее другой, является тупоугольным? -- 0.79704\n"
     ]
    },
    {
     "data": {
      "text/plain": [
       "Timing: true\n",
       "sccache: true\n"
      ]
     },
     "execution_count": 9,
     "metadata": {},
     "output_type": "execute_result"
    },
    {
     "data": {
      "text/html": [
       "<span style=\"color: rgba(0,0,0,0.4);\">Took 557ms</span>"
      ]
     },
     "execution_count": 9,
     "metadata": {},
     "output_type": "execute_result"
    }
   ],
   "source": [
    ":timing 1\n",
    ":sccache 1\n",
    "\n",
    "struct Task2;\n",
    "\n",
    "impl Experiment for Task2 {\n",
    "    type Outcome = bool;\n",
    "    fn description(&self) -> String {\n",
    "        \"Чему равна вероятность того, что случайный треугольник, нарисованный внутри\n",
    "прямоугольника, у которого одна сторона в 2 раза длиннее другой, является тупоугольным?\".to_string()\n",
    "    }\n",
    "    fn try_it<T: rand::Rng>(&self, rng: &mut T) -> Self::Outcome {\n",
    "        let pa: (f64, f64) = (rng.gen(), rng.gen::<f64>()*2.0);\n",
    "        let pb: (f64, f64) = (rng.gen(), rng.gen::<f64>()*2.0);\n",
    "        let pc: (f64, f64) = (rng.gen(), rng.gen::<f64>()*2.0);\n",
    "        let va = (pa.0 - pb.0, pa.1 - pb.1);\n",
    "        let vb = (pa.0 - pc.0, pa.1 - pc.1);\n",
    "        let vc = (pc.0 - pb.0, pc.1 - pb.1);\n",
    "        for permut in [va, vb, vc].iter().permutations(3) {\n",
    "            let magnitudes: Vec<f64> = permut.iter().map(|x| magnitude(**x)).collect();\n",
    "            // a*a + b*b < c*c -> triangle is obtuse\n",
    "            if (magnitudes[0] * magnitudes[0]) + (magnitudes[1] * magnitudes[1]) < (magnitudes[2] * magnitudes[2]) {\n",
    "                return true;\n",
    "            }\n",
    "            \n",
    "        }\n",
    "        false\n",
    "    }\n",
    "    \n",
    "    fn desired_outcomes(&self) -> Vec<Self::Outcome> {vec![true]}\n",
    "}\n",
    "\n",
    "let a = Task2{};\n",
    "println!(\"{} -- {}\", a.description(), a.probability_of_desired(100000));"
   ]
  },
  {
   "cell_type": "code",
   "execution_count": 10,
   "id": "a27525ad",
   "metadata": {},
   "outputs": [
    {
     "data": {
      "text/html": [
       "<span style=\"color: rgba(0,0,0,0.4);\">Took 457ms</span>"
      ]
     },
     "execution_count": 10,
     "metadata": {},
     "output_type": "execute_result"
    },
    {
     "name": "stdout",
     "output_type": "stream",
     "text": [
      "Пусть a, b и c – независимые случайные величины, распределенные равномерно на [0,1].\n",
      "Рассмотрим квадратное уравнение a∙x^2+b∙x+c=0. Чему равна вероятность того, что его решения –\n",
      "действительные числа? -- 0.255\n"
     ]
    }
   ],
   "source": [
    "struct Task3;\n",
    "\n",
    "impl Experiment for Task3 {\n",
    "    type Outcome = bool;\n",
    "    fn description(&self) -> String {\n",
    "        \"Пусть a, b и c – независимые случайные величины, распределенные равномерно на [0,1].\n",
    "Рассмотрим квадратное уравнение a∙x^2+b∙x+c=0. Чему равна вероятность того, что его решения –\n",
    "действительные числа?\".to_string()\n",
    "    }\n",
    "    fn try_it<T: rand::Rng>(&self, rng: &mut T) -> Self::Outcome {\n",
    "        let a: f64 = rng.gen();\n",
    "        let b: f64 = rng.gen();\n",
    "        let c: f64 = rng.gen();\n",
    "        \n",
    "        let discriminant_sq = (b * b) - (4.0 * a * c);\n",
    "        discriminant_sq >= 0.0\n",
    "    }\n",
    "    \n",
    "    fn desired_outcomes(&self) -> Vec<Self::Outcome> {vec![true]}\n",
    "}\n",
    "\n",
    "let a = Task3{};\n",
    "println!(\"{} -- {}\", a.description(), a.probability_of_desired(100000));"
   ]
  },
  {
   "cell_type": "code",
   "execution_count": 16,
   "id": "02f8677d",
   "metadata": {},
   "outputs": [
    {
     "name": "stdout",
     "output_type": "stream",
     "text": [
      "В самолете 220 мест, и все билеты проданы пассажирам. Первым в самолет заходит\n",
      "рассеянный учёный и, не посмотрев на билет, занимает первое попавшееся место. Далее пассажиры\n",
      "входят по одному. Если вошедший видит, что его место свободно, он занимает свое место. Если же\n"
     ]
    },
    {
     "data": {
      "text/html": [
       "<span style=\"color: rgba(0,0,0,0.4);\">Took 3469ms</span>"
      ]
     },
     "execution_count": 16,
     "metadata": {},
     "output_type": "execute_result"
    },
    {
     "name": "stdout",
     "output_type": "stream",
     "text": [
      "место занято, то вошедший занимает первое попавшееся свободное место. Найдите вероятность того,\n",
      "что пассажир, вошедший последним, займет место согласно своему билету. -- 0.50082\n"
     ]
    }
   ],
   "source": [
    "use rand::prelude::{SliceRandom, IteratorRandom};\n",
    "struct Task4(usize);\n",
    "\n",
    "impl Experiment for Task4 {\n",
    "    type Outcome = bool;\n",
    "    fn description(&self) -> String {\n",
    "        format!(\"В самолете {} мест, и все билеты проданы пассажирам. Первым в самолет заходит\n",
    "рассеянный учёный и, не посмотрев на билет, занимает первое попавшееся место. Далее пассажиры\n",
    "входят по одному. Если вошедший видит, что его место свободно, он занимает свое место. Если же\n",
    "место занято, то вошедший занимает первое попавшееся свободное место. Найдите вероятность того,\n",
    "что пассажир, вошедший последним, займет место согласно своему билету.\", self.0)\n",
    "    }\n",
    "    fn try_it<T: rand::Rng>(&self, rng: &mut T) -> Self::Outcome {\n",
    "        assert!(self.0 >= 2);\n",
    "        let mut seats: Vec<Option<usize>> = vec![None; self.0];\n",
    "        let mut empty_seats: Vec<usize> = (0..self.0).collect();\n",
    "        let mut passengers: Vec<usize> = (0..self.0).collect();\n",
    "        passengers.shuffle(rng);\n",
    "        \n",
    "        // Step 1: first passenger assigned randomly\n",
    "        let first_passenger = passengers.pop();\n",
    "        let first_seat_idx = *empty_seats.iter().choose(rng).unwrap();\n",
    "        seats[first_seat_idx] = first_passenger;\n",
    "        empty_seats.retain(|i| *i != first_seat_idx);\n",
    "        \n",
    "        // Step 2: until there is only one empty seat, assign those.\n",
    "        while empty_seats.len() != 1 {\n",
    "            let next_passenger = passengers.pop().unwrap();\n",
    "            if seats[next_passenger].is_none() {\n",
    "                seats[next_passenger] = Some(next_passenger);\n",
    "                empty_seats.retain(|i| *i != next_passenger);\n",
    "            } else {\n",
    "                let random_empty_seat = *empty_seats.iter().choose(rng).unwrap();\n",
    "                seats[random_empty_seat] = Some(next_passenger);\n",
    "                empty_seats.retain(|i| *i != random_empty_seat);\n",
    "            }\n",
    "        }\n",
    "        \n",
    "        // Step 3: check whether the last passenger can be matched to their seat\n",
    "        let last_passenger = passengers.pop().unwrap();\n",
    "        seats[last_passenger].is_none()\n",
    "    }\n",
    "    \n",
    "    fn desired_outcomes(&self) -> Vec<Self::Outcome> {vec![true]}\n",
    "}\n",
    "\n",
    "let a = Task4(220);\n",
    "println!(\"{} -- {}\", a.description(), a.probability_of_desired(100000));"
   ]
  },
  {
   "cell_type": "code",
   "execution_count": 20,
   "id": "b2f69d33",
   "metadata": {},
   "outputs": [
    {
     "name": "stdout",
     "output_type": "stream",
     "text": [
      "Диаметр круга имеет равномерное распределение на [0,5]. Чему равна средняя площадь\n",
      "круга? -- 6.534732891968153\n"
     ]
    }
   ],
   "source": [
    "struct Task5(f64);\n",
    "\n",
    "impl PartialExperiment for Task5 {\n",
    "    type Outcome = f64;\n",
    "    fn description(&self) -> String {\n",
    "        format!(\"Диаметр круга имеет равномерное распределение на [0,{}]. Чему равна средняя площадь\n",
    "круга?\", self.0)\n",
    "    }\n",
    "    fn try_it<T: rand::Rng>(&self, rng: &mut T) -> Self::Outcome {\n",
    "        let diameter = rng.gen::<f64>() * self.0;\n",
    "        let radius = diameter / 2.0;\n",
    "        let area = std::f64::consts::PI * radius * radius;\n",
    "        area\n",
    "    }\n",
    "}\n",
    "\n",
    "let a = Task5(5.0);\n",
    "let output = {\n",
    "    let stats = a.collect_stats(100_000);\n",
    "    let avg: f64 = stats.iter().sum::<f64>() / (stats.len() as f64);\n",
    "    avg\n",
    "};\n",
    "println!(\"{} -- {}\", a.description(), output);\n"
   ]
  },
  {
   "cell_type": "code",
   "execution_count": null,
   "id": "451f92d3",
   "metadata": {},
   "outputs": [],
   "source": []
  }
 ],
 "metadata": {
  "kernelspec": {
   "display_name": "Rust",
   "language": "rust",
   "name": "rust"
  },
  "language_info": {
   "codemirror_mode": "rust",
   "file_extension": ".rs",
   "mimetype": "text/rust",
   "name": "Rust",
   "pygment_lexer": "rust",
   "version": ""
  }
 },
 "nbformat": 4,
 "nbformat_minor": 5
}
